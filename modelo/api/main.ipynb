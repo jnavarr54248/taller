{
 "cells": [
  {
   "cell_type": "code",
   "execution_count": 2,
   "metadata": {},
   "outputs": [
    {
     "name": "stdout",
     "output_type": "stream",
     "text": [
      "Collecting fastapi\n",
      "  Downloading fastapi-0.115.10-py3-none-any.whl.metadata (27 kB)\n",
      "Collecting uvicorn\n",
      "  Downloading uvicorn-0.34.0-py3-none-any.whl.metadata (6.5 kB)\n",
      "Requirement already satisfied: joblib in c:\\users\\asustuf\\anaconda3\\lib\\site-packages (1.4.2)\n",
      "Requirement already satisfied: pandas in c:\\users\\asustuf\\anaconda3\\lib\\site-packages (2.2.2)\n",
      "Requirement already satisfied: scikit-learn in c:\\users\\asustuf\\anaconda3\\lib\\site-packages (1.5.1)\n",
      "Collecting starlette<0.47.0,>=0.40.0 (from fastapi)\n",
      "  Downloading starlette-0.46.0-py3-none-any.whl.metadata (6.2 kB)\n",
      "Requirement already satisfied: pydantic!=1.8,!=1.8.1,!=2.0.0,!=2.0.1,!=2.1.0,<3.0.0,>=1.7.4 in c:\\users\\asustuf\\anaconda3\\lib\\site-packages (from fastapi) (2.8.2)\n",
      "Requirement already satisfied: typing-extensions>=4.8.0 in c:\\users\\asustuf\\anaconda3\\lib\\site-packages (from fastapi) (4.11.0)\n",
      "Requirement already satisfied: click>=7.0 in c:\\users\\asustuf\\anaconda3\\lib\\site-packages (from uvicorn) (8.1.7)\n",
      "Requirement already satisfied: h11>=0.8 in c:\\users\\asustuf\\anaconda3\\lib\\site-packages (from uvicorn) (0.14.0)\n",
      "Requirement already satisfied: numpy>=1.26.0 in c:\\users\\asustuf\\anaconda3\\lib\\site-packages (from pandas) (1.26.4)\n",
      "Requirement already satisfied: python-dateutil>=2.8.2 in c:\\users\\asustuf\\anaconda3\\lib\\site-packages (from pandas) (2.9.0.post0)\n",
      "Requirement already satisfied: pytz>=2020.1 in c:\\users\\asustuf\\anaconda3\\lib\\site-packages (from pandas) (2024.1)\n",
      "Requirement already satisfied: tzdata>=2022.7 in c:\\users\\asustuf\\anaconda3\\lib\\site-packages (from pandas) (2023.3)\n",
      "Requirement already satisfied: scipy>=1.6.0 in c:\\users\\asustuf\\anaconda3\\lib\\site-packages (from scikit-learn) (1.13.1)\n",
      "Requirement already satisfied: threadpoolctl>=3.1.0 in c:\\users\\asustuf\\anaconda3\\lib\\site-packages (from scikit-learn) (3.5.0)\n",
      "Requirement already satisfied: colorama in c:\\users\\asustuf\\anaconda3\\lib\\site-packages (from click>=7.0->uvicorn) (0.4.6)\n",
      "Requirement already satisfied: annotated-types>=0.4.0 in c:\\users\\asustuf\\anaconda3\\lib\\site-packages (from pydantic!=1.8,!=1.8.1,!=2.0.0,!=2.0.1,!=2.1.0,<3.0.0,>=1.7.4->fastapi) (0.6.0)\n",
      "Requirement already satisfied: pydantic-core==2.20.1 in c:\\users\\asustuf\\anaconda3\\lib\\site-packages (from pydantic!=1.8,!=1.8.1,!=2.0.0,!=2.0.1,!=2.1.0,<3.0.0,>=1.7.4->fastapi) (2.20.1)\n",
      "Requirement already satisfied: six>=1.5 in c:\\users\\asustuf\\anaconda3\\lib\\site-packages (from python-dateutil>=2.8.2->pandas) (1.16.0)\n",
      "Requirement already satisfied: anyio<5,>=3.6.2 in c:\\users\\asustuf\\anaconda3\\lib\\site-packages (from starlette<0.47.0,>=0.40.0->fastapi) (4.2.0)\n",
      "Requirement already satisfied: idna>=2.8 in c:\\users\\asustuf\\anaconda3\\lib\\site-packages (from anyio<5,>=3.6.2->starlette<0.47.0,>=0.40.0->fastapi) (3.7)\n",
      "Requirement already satisfied: sniffio>=1.1 in c:\\users\\asustuf\\anaconda3\\lib\\site-packages (from anyio<5,>=3.6.2->starlette<0.47.0,>=0.40.0->fastapi) (1.3.0)\n",
      "Downloading fastapi-0.115.10-py3-none-any.whl (94 kB)\n",
      "Downloading uvicorn-0.34.0-py3-none-any.whl (62 kB)\n",
      "Downloading starlette-0.46.0-py3-none-any.whl (71 kB)\n",
      "Installing collected packages: uvicorn, starlette, fastapi\n",
      "Successfully installed fastapi-0.115.10 starlette-0.46.0 uvicorn-0.34.0\n",
      "Note: you may need to restart the kernel to use updated packages.\n"
     ]
    }
   ],
   "source": [
    "pip install fastapi uvicorn joblib pandas scikit-learn\n"
   ]
  },
  {
   "cell_type": "code",
   "execution_count": null,
   "metadata": {},
   "outputs": [
    {
     "name": "stdout",
     "output_type": "stream",
     "text": [
      "✅ Modelo cargado exitosamente desde: C:\\Users\\AsusTUF\\Documents\\taller\\modelo\\api\\mejor_modelo.gz\n"
     ]
    },
    {
     "name": "stderr",
     "output_type": "stream",
     "text": [
      "INFO:     Started server process [57184]\n",
      "INFO:     Waiting for application startup.\n",
      "INFO:     Application startup complete.\n",
      "INFO:     Uvicorn running on http://0.0.0.0:8000 (Press CTRL+C to quit)\n"
     ]
    },
    {
     "name": "stdout",
     "output_type": "stream",
     "text": [
      "INFO:     127.0.0.1:54791 - \"GET /docs HTTP/1.1\" 200 OK\n",
      "INFO:     127.0.0.1:54791 - \"GET /openapi.json HTTP/1.1\" 200 OK\n",
      "INFO:     127.0.0.1:54929 - \"POST /predict/ HTTP/1.1\" 200 OK\n"
     ]
    },
    {
     "name": "stderr",
     "output_type": "stream",
     "text": [
      "c:\\Users\\AsusTUF\\anaconda3\\Lib\\site-packages\\sklearn\\decomposition\\_pca.py:591: RuntimeWarning: invalid value encountered in divide\n",
      "  explained_variance_ = (S**2) / (n_samples - 1)\n"
     ]
    }
   ],
   "source": [
    "from fastapi import FastAPI, HTTPException\n",
    "import uvicorn\n",
    "import joblib\n",
    "import pandas as pd\n",
    "import os\n",
    "import numpy as np\n",
    "from sklearn.decomposition import PCA\n",
    "from sklearn.preprocessing import MinMaxScaler\n",
    "\n",
    "# ✅ Aplicar nest_asyncio si ejecutas en Jupyter Notebook\n",
    "try:\n",
    "    import nest_asyncio\n",
    "    nest_asyncio.apply()\n",
    "except ImportError:\n",
    "    pass\n",
    "\n",
    "# ✅ Ruta completa del modelo\n",
    "modelo_path = r\"C:\\Users\\AsusTUF\\Documents\\taller\\modelo\\api\\mejor_modelo.gz\"  # Ajusta si está en otro lugar\n",
    "\n",
    "# ✅ Cargar el modelo al iniciar la API\n",
    "if os.path.exists(modelo_path):\n",
    "    try:\n",
    "        model = joblib.load(modelo_path)\n",
    "        print(f\"✅ Modelo cargado exitosamente desde: {modelo_path}\")\n",
    "    except Exception as e:\n",
    "        print(f\"❌ Error al cargar el modelo: {e}\")\n",
    "        model = None\n",
    "else:\n",
    "    print(f\"❌ El archivo '{modelo_path}' no existe. Verifica la ruta.\")\n",
    "    model = None\n",
    "\n",
    "# ✅ Definir las variables seleccionadas para el clustering\n",
    "score_columns = [\n",
    "    'TOTAL_OPERATING_REVENUE', 'CASH_AND_CASH_EQUIVALENTS', 'EQUITY_ATTRIBUTABLE_TO_OWNERS_OF_THE_PARENT',\n",
    "    'ISSUED_CAPITAL', 'CURRENT_LIABILITIES_TO_TOTAL_LIABILITIES_PERCENTAGE', 'RETURN_ON_CAPITAL_EMPLOYED_PERCENTAGE',\n",
    "    'WORKING_CAPITAL', 'NET_PROFIT_MARGIN_PERCENTAGE', 'PROPERTY_PLANT_AND_EQUIPMENT', 'ADMINISTRATIVE_EXPENSES_NET_SALES_PERCENTAGE',\n",
    "    'NON_CURRENT_ASSET_TURNOVER_X', 'TRADE_RECEIVABLE_TURNOVER_X', 'NET_CASH', 'DEBT_RATIO', 'TOTAL_ASSETS_TREND_PERCENTAGE',\n",
    "    'SHAREHOLDERS_EQUITY_TREND_PERCENTAGE', 'ALTMAN_Z_SCORE', 'GROSS_PROFIT_TREND_PERCENTAGE', 'TOTAL_OPERATING_REVENUE_TREND_PERCENTAGE',\n",
    "    'NET_CASH_FLOW_FROM_USED_IN_OPERATING_ACTIVITIES', 'RETAINED_EARNINGS', 'CASH_RATIO_X', 'EBITDA', 'INCOME_TAX',\n",
    "    'OPERATING_PROFIT_TREND_PERCENTAGE', 'NET_PROFIT_TREND_PERCENTAGE', 'DEBT_TO_EBITDA_X', 'NET_CASH_FLOW_FROM_USED_IN_INVESTING_ACTIVITIES',\n",
    "    'OPERATING_CASH_FLOW_TO_DEBT_X', 'SHARE_PREMIUM', 'NET_PROPERTY_PLANT_AND_EQUIPMENT_PPYE_TREND_PERCENTAGE', 'SHORT_TERM_DEBT',\n",
    "    'INTANGIBLE_ASSETS_AND_GOODWILL', 'EBITDA_TREND_PERCENTAGE', 'INVENTORY_TREND_PERCENTAGE'\n",
    "]\n",
    "\n",
    "# ✅ Inicializar el **escalador MinMaxScaler** y PCA con los mismos parámetros que en el entrenamiento\n",
    "scaler = MinMaxScaler()\n",
    "pca = PCA(n_components=1)  # Asegúrate de usar el mismo número de componentes que en el entrenamiento\n",
    "\n",
    "# ✅ Iniciar FastAPI\n",
    "app = FastAPI()\n",
    "\n",
    "@app.get(\"/\")\n",
    "def read_root():\n",
    "    return {\"message\": \"API de Clustering con FastAPI está funcionando correctamente 🚀\"}\n",
    "\n",
    "@app.post(\"/predict/\")\n",
    "def predict_cluster(data: dict):\n",
    "    \"\"\"\n",
    "    Endpoint para predecir el clúster de un nuevo registro basado en K-Means con PCA.\n",
    "    \"\"\"\n",
    "    if model is None:\n",
    "        raise HTTPException(status_code=500, detail=f\"El modelo no está disponible en '{modelo_path}'.\")\n",
    "\n",
    "    try:\n",
    "        # ✅ Convertir los datos a DataFrame\n",
    "        df_input = pd.DataFrame([data])\n",
    "\n",
    "        # ✅ Asegurar que todas las columnas requeridas están presentes\n",
    "        for col in score_columns:\n",
    "            if col not in df_input.columns:\n",
    "                df_input[col] = 0  # Rellenar valores faltantes con 0\n",
    "\n",
    "        # ✅ Ordenar las columnas en el mismo orden que en el entrenamiento\n",
    "        df_input = df_input[score_columns]\n",
    "\n",
    "        # ✅ Aplicar **MinMaxScaler** (usando los mismos valores que en el entrenamiento)\n",
    "        df_scaled = scaler.fit_transform(df_input)  # Usa `fit_transform` por el el escalador\n",
    "\n",
    "        # ✅ Aplicar **PCA** (debes haber usado el mismo número de componentes)\n",
    "        df_pca = pca.fit_transform(df_scaled)\n",
    "\n",
    "        # ✅ Hacer la predicción con el modelo K-Means\n",
    "        cluster = model.predict(df_pca)\n",
    "        return {\"cluster_predicho\": int(cluster[0])}\n",
    "\n",
    "    except Exception as e:\n",
    "        raise HTTPException(status_code=400, detail=f\"Error en la predicción: {str(e)}\")\n",
    "\n",
    "\n",
    "# ✅ Para ejecutar la API\n",
    "if __name__ == \"__main__\":\n",
    "    uvicorn.run(app, host=\"0.0.0.0\", port=8000)\n"
   ]
  }
 ],
 "metadata": {
  "kernelspec": {
   "display_name": "base",
   "language": "python",
   "name": "python3"
  },
  "language_info": {
   "codemirror_mode": {
    "name": "ipython",
    "version": 3
   },
   "file_extension": ".py",
   "mimetype": "text/x-python",
   "name": "python",
   "nbconvert_exporter": "python",
   "pygments_lexer": "ipython3",
   "version": "3.12.7"
  }
 },
 "nbformat": 4,
 "nbformat_minor": 2
}
